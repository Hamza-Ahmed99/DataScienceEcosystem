{
 "cells": [
  {
   "cell_type": "markdown",
   "id": "bbe7a251-ad13-410f-884f-a3c966f9751c",
   "metadata": {},
   "source": [
    "# Data Science Tools and Ecosystem"
   ]
  },
  {
   "cell_type": "markdown",
   "id": "a456094f-1e20-460f-b884-66ceed096cfe",
   "metadata": {},
   "source": [
    "In this notebook, Data Science Tools and Ecosystem are summarized."
   ]
  },
  {
   "cell_type": "markdown",
   "id": "d94e74df-0f90-4a49-9f10-f2c5fa933556",
   "metadata": {},
   "source": [
    "**Objectives:**\n",
    "\n",
    "- List some popular languages used for data science.\n",
    "- List some common libraries used in data science.\n",
    "- List some tools used in data science.\n",
    "- Arithmetic operations in Python."
   ]
  },
  {
   "cell_type": "markdown",
   "id": "962ee380-5dd1-4ce8-9996-a2e94f514b72",
   "metadata": {},
   "source": [
    "Some of the popular languages that Data Scientists use are:\n",
    "1. SQL\n",
    "2. R Language\n",
    "3. Python"
   ]
  },
  {
   "cell_type": "markdown",
   "id": "5cf80c94-3f72-4d8d-a22c-29b47d9ffbdb",
   "metadata": {},
   "source": [
    "Some of the commonly used libraries used by Data Scientists include:\n",
    "\n",
    "1. Pandas\n",
    "2. NumPy\n",
    "3. Tensorflow"
   ]
  },
  {
   "cell_type": "markdown",
   "id": "c6564dab-7d6e-45dc-997c-9dece56c324a",
   "metadata": {},
   "source": [
    "|Data Science Tools|\n",
    "|------------------|\n",
    "|RStudio|\n",
    "|Apache Spark|\n",
    "|TensorFlow|"
   ]
  },
  {
   "cell_type": "markdown",
   "id": "33d2ab75-ba73-43e9-8f00-1f81aad25967",
   "metadata": {},
   "source": [
    "### Below are a few examples of evaluating arithmetic expressions in Python:\n"
   ]
  },
  {
   "cell_type": "code",
   "execution_count": 2,
   "id": "22a13f18-8c35-46ac-a351-a0d37e0b880f",
   "metadata": {
    "tags": []
   },
   "outputs": [
    {
     "data": {
      "text/plain": [
       "17"
      ]
     },
     "execution_count": 2,
     "metadata": {},
     "output_type": "execute_result"
    }
   ],
   "source": [
    "# This a simple arithmetic expression to mutiply then add integers\n",
    "(3*4)+5\n"
   ]
  },
  {
   "cell_type": "code",
   "execution_count": 3,
   "id": "081a36a7-c64d-4c86-bad6-c94e4440c3bb",
   "metadata": {
    "tags": []
   },
   "outputs": [
    {
     "data": {
      "text/plain": [
       "3.3333333333333335"
      ]
     },
     "execution_count": 3,
     "metadata": {},
     "output_type": "execute_result"
    }
   ],
   "source": [
    "# This will convert 200 minutes to hours by diving by 60\n",
    "200/60"
   ]
  },
  {
   "cell_type": "markdown",
   "id": "abdee01c-9654-4c89-8c34-2dd137cdf5c8",
   "metadata": {},
   "source": [
    "## Author\n",
    "Hamza Ahmed"
   ]
  },
  {
   "cell_type": "code",
   "execution_count": null,
   "id": "fa000922-320a-4fd8-943c-7e3960dcc4ac",
   "metadata": {},
   "outputs": [],
   "source": []
  }
 ],
 "metadata": {
  "kernelspec": {
   "display_name": "Python",
   "language": "python",
   "name": "conda-env-python-py"
  },
  "language_info": {
   "codemirror_mode": {
    "name": "ipython",
    "version": 3
   },
   "file_extension": ".py",
   "mimetype": "text/x-python",
   "name": "python",
   "nbconvert_exporter": "python",
   "pygments_lexer": "ipython3",
   "version": "3.7.12"
  }
 },
 "nbformat": 4,
 "nbformat_minor": 5
}
